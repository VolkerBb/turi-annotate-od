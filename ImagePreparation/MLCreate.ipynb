{
 "cells": [
  {
   "cell_type": "code",
   "execution_count": 1,
   "metadata": {},
   "outputs": [],
   "source": [
    "import turicreate as tc"
   ]
  },
  {
   "cell_type": "code",
   "execution_count": 2,
   "metadata": {},
   "outputs": [],
   "source": [
    "import json"
   ]
  },
  {
   "cell_type": "markdown",
   "metadata": {},
   "source": [
    "# Name your model"
   ]
  },
  {
   "cell_type": "code",
   "execution_count": 3,
   "metadata": {},
   "outputs": [],
   "source": [
    "modelName = \"MyModel\""
   ]
  },
  {
   "cell_type": "markdown",
   "metadata": {},
   "source": [
    "# Build train JSON SFrame"
   ]
  },
  {
   "cell_type": "code",
   "execution_count": 4,
   "metadata": {},
   "outputs": [],
   "source": [
    "with open('annotations.json') as j:\n",
    "    annotations = json.load(j)"
   ]
  },
  {
   "cell_type": "code",
   "execution_count": 5,
   "metadata": {},
   "outputs": [],
   "source": [
    "annotationData = tc.SFrame(annotations)"
   ]
  },
  {
   "cell_type": "code",
   "execution_count": 6,
   "metadata": {},
   "outputs": [],
   "source": [
    "data = tc.load_images('images/')"
   ]
  },
  {
   "cell_type": "code",
   "execution_count": 7,
   "metadata": {},
   "outputs": [],
   "source": [
    "data = data.join(annotationData)"
   ]
  },
  {
   "cell_type": "code",
   "execution_count": 8,
   "metadata": {},
   "outputs": [],
   "source": [
    "trainData, testData = data.random_split(0.8)"
   ]
  },
  {
   "cell_type": "markdown",
   "metadata": {},
   "source": [
    "# Check ground truth"
   ]
  },
  {
   "cell_type": "code",
   "execution_count": 9,
   "metadata": {},
   "outputs": [],
   "source": [
    "trainData['image_with_ground_truth'] = \\\n",
    "    tc.object_detector.util.draw_bounding_boxes(trainData['image'], trainData['annotations'])"
   ]
  },
  {
   "cell_type": "code",
   "execution_count": 10,
   "metadata": {},
   "outputs": [
    {
     "data": {
      "text/html": [
       "<pre>Materializing SFrame</pre>"
      ],
      "text/plain": [
       "Materializing SFrame"
      ]
     },
     "metadata": {},
     "output_type": "display_data"
    }
   ],
   "source": [
    "trainData.explore()"
   ]
  },
  {
   "cell_type": "markdown",
   "metadata": {},
   "source": [
    "# Train the model"
   ]
  },
  {
   "cell_type": "code",
   "execution_count": 11,
   "metadata": {},
   "outputs": [
    {
     "name": "stdout",
     "output_type": "stream",
     "text": [
      "Setting 'batch_size' to 32\n",
      "Using CPU to create model\n",
      "NOTE: If available, an AMD GPU can be leveraged on macOS 10.14+ for faster model creation\n",
      "+--------------+--------------+--------------+\n",
      "| Iteration    | Loss         | Elapsed Time |\n",
      "+--------------+--------------+--------------+\n",
      "| 1            | 4.544        | 10.3         |\n",
      "| 3            | 4.558        | 29.6         |\n",
      "| 5            | 4.566        | 48.6         |\n",
      "| 7            | 4.557        | 67.9         |\n",
      "| 9            | 4.558        | 87.4         |\n",
      "| 11           | 4.478        | 106.9        |\n",
      "| 13           | 4.485        | 126.2        |\n",
      "| 15           | 4.459        | 146.0        |\n",
      "| 17           | 4.378        | 165.6        |\n",
      "| 19           | 4.315        | 184.9        |\n",
      "| 21           | 4.288        | 204.5        |\n",
      "| 23           | 4.246        | 224.1        |\n",
      "| 25           | 4.206        | 244.0        |\n",
      "| 27           | 4.173        | 263.3        |\n",
      "| 29           | 4.119        | 282.7        |\n",
      "| 30           | 4.066        | 291.4        |\n",
      "+--------------+--------------+--------------+\n"
     ]
    }
   ],
   "source": [
    "model = tc.object_detector.create(trainData, feature=\"image\", annotations=\"annotations\", max_iterations=30)"
   ]
  },
  {
   "cell_type": "code",
   "execution_count": 12,
   "metadata": {},
   "outputs": [],
   "source": [
    "model.save(modelName + '.model')"
   ]
  },
  {
   "cell_type": "markdown",
   "metadata": {},
   "source": [
    "# Predictions"
   ]
  },
  {
   "cell_type": "code",
   "execution_count": 13,
   "metadata": {},
   "outputs": [
    {
     "name": "stdout",
     "output_type": "stream",
     "text": [
      "Predicting  1/14\n",
      "Predicting 14/14\n"
     ]
    }
   ],
   "source": [
    "predictions = model.predict(testData, confidence_threshold=0.0, verbose=True)"
   ]
  },
  {
   "cell_type": "code",
   "execution_count": 14,
   "metadata": {},
   "outputs": [
    {
     "data": {
      "text/html": [
       "<pre>Materializing SFrame</pre>"
      ],
      "text/plain": [
       "Materializing SFrame"
      ]
     },
     "metadata": {},
     "output_type": "display_data"
    }
   ],
   "source": [
    "predictions.explore()"
   ]
  },
  {
   "cell_type": "code",
   "execution_count": 15,
   "metadata": {},
   "outputs": [
    {
     "name": "stdout",
     "output_type": "stream",
     "text": [
      "Predicting  1/14\n",
      "Predicting 14/14\n"
     ]
    }
   ],
   "source": [
    "metrics = model.evaluate(testData)"
   ]
  },
  {
   "cell_type": "code",
   "execution_count": 16,
   "metadata": {},
   "outputs": [
    {
     "name": "stdout",
     "output_type": "stream",
     "text": [
      "mAP: 30.6%\n"
     ]
    }
   ],
   "source": [
    "print('mAP: {:.1%}'.format(metrics['mean_average_precision_50']))"
   ]
  },
  {
   "cell_type": "code",
   "execution_count": 17,
   "metadata": {},
   "outputs": [
    {
     "data": {
      "text/plain": [
       "{'average_precision_50': {'Feder': 0.30599078264015506},\n",
       " 'mean_average_precision_50': 0.30599078264015506}"
      ]
     },
     "execution_count": 17,
     "metadata": {},
     "output_type": "execute_result"
    }
   ],
   "source": [
    "metrics"
   ]
  },
  {
   "cell_type": "markdown",
   "metadata": {},
   "source": [
    "# Export model"
   ]
  },
  {
   "cell_type": "code",
   "execution_count": 18,
   "metadata": {},
   "outputs": [],
   "source": [
    "model.export_coreml(modelName + '.mlmodel')"
   ]
  },
  {
   "cell_type": "code",
   "execution_count": null,
   "metadata": {},
   "outputs": [],
   "source": []
  }
 ],
 "metadata": {
  "kernelspec": {
   "display_name": "Python 3",
   "language": "python",
   "name": "python3"
  },
  "language_info": {
   "codemirror_mode": {
    "name": "ipython",
    "version": 3
   },
   "file_extension": ".py",
   "mimetype": "text/x-python",
   "name": "python",
   "nbconvert_exporter": "python",
   "pygments_lexer": "ipython3",
   "version": "3.6.5"
  }
 },
 "nbformat": 4,
 "nbformat_minor": 2
}
